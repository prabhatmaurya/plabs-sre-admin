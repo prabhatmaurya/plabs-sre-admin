{
 "cells": [
  {
   "cell_type": "code",
   "execution_count": null,
   "metadata": {},
   "outputs": [],
   "source": [
    "from cassandra.cluster import Cluster\n",
    "from cassandra.auth import PlainTextAuthProvider\n",
    "import time,csv\n",
    "\n",
    "auth_provider = PlainTextAuthProvider(username='myuser', password='mypassword')\n",
    "\n",
    "cluster = Cluster([\"localhost\"],port=9042,auth_provider=auth_provider, protocol_version=4)\n",
    "session = cluster.connect('myschema')\n",
    "\n",
    "currentToken = -9223372036854775808\n",
    "maxToken = currentToken\n",
    "maxTokenReached = False\n",
    "\n",
    "i=0\n",
    "with open('employee.csv',mode='a') as employee:\n",
    "    employee_writer = csv.writer(employee,delimiter=',',quotechar='\"')\n",
    "    employee_writer.writerow(['emp_id','emp_name','emp_department_id'])\n",
    "    while maxTokenReached==False:\n",
    "        query = \"select emp_id,emp_name,  emp_department_id, token(emp_id) from employee where token(emp_id) > %s limit 100\" % currentToken\n",
    "        print(i,query)\n",
    "        print(\"\\n\")\n",
    "        rows = session.execute(query)\n",
    "        if rows[0] is None:\n",
    "            maxTokenReached = True\n",
    "        else:\n",
    "            for row in rows:\n",
    "                i +=1\n",
    "                employee_writer.writerow([row.emp_id,row.emp_name,row.emp_department_id])\n",
    "                currentToken = row.system_token_emp_id\n",
    "        if currentToken > maxToken:\n",
    "            maxToken=currentToken\n",
    "        time.sleep(1)"
   ]
  }
 ],
 "metadata": {
  "kernelspec": {
   "display_name": "Python 3",
   "language": "python",
   "name": "python3"
  },
  "language_info": {
   "codemirror_mode": {
    "name": "ipython",
    "version": 3
   },
   "file_extension": ".py",
   "mimetype": "text/x-python",
   "name": "python",
   "nbconvert_exporter": "python",
   "pygments_lexer": "ipython3",
   "version": "3.7.3"
  }
 },
 "nbformat": 4,
 "nbformat_minor": 2
}
