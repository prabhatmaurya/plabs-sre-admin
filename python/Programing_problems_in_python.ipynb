{
 "cells": [
  {
   "cell_type": "markdown",
   "metadata": {},
   "source": [
    "## Max Sequential repeated countExample: [1, 1, 2, 1, 2, 2, 2, 2, 1, 1, 1]\n",
    "## Output: 2 - 4 times repeated"
   ]
  },
  {
   "cell_type": "code",
   "execution_count": 1,
   "metadata": {},
   "outputs": [
    {
     "name": "stdout",
     "output_type": "stream",
     "text": [
      "2 - 4\n",
      "CPU times: user 649 µs, sys: 346 µs, total: 995 µs\n",
      "Wall time: 767 µs\n"
     ]
    }
   ],
   "source": [
    "%%time\n",
    "input = [1, 1, 2, 1, 2, 2, 2, 2, 1, 1, 1]\n",
    "storage = {}\n",
    "currentCount = 0\n",
    "currentChar = ''\n",
    "for i in input:\n",
    "    if i == currentChar:\n",
    "       currentCount +=1\n",
    "       if currentCount > storage[i]:\n",
    "            storage[i] = currentCount            \n",
    "    else:\n",
    "        currentChar = i\n",
    "        currentCount = 1\n",
    "        storage.update({i:currentCount})\n",
    "max_value = max(storage)\n",
    "print(max_value, '-',  storage[max_value]) "
   ]
  },
  {
   "cell_type": "markdown",
   "metadata": {},
   "source": [
    "## Find missing numbers in a sorted list"
   ]
  },
  {
   "cell_type": "code",
   "execution_count": 2,
   "metadata": {},
   "outputs": [
    {
     "name": "stdout",
     "output_type": "stream",
     "text": [
      "5\n",
      "CPU times: user 316 µs, sys: 125 µs, total: 441 µs\n",
      "Wall time: 376 µs\n"
     ]
    }
   ],
   "source": [
    "%%time\n",
    "input = [1,2,3,4,6,7,8,9]\n",
    "for i in range(1,10):\n",
    "    if i not in input:\n",
    "        print(i)"
   ]
  }
 ],
 "metadata": {
  "kernelspec": {
   "display_name": "Python 3",
   "language": "python",
   "name": "python3"
  },
  "language_info": {
   "codemirror_mode": {
    "name": "ipython",
    "version": 3
   },
   "file_extension": ".py",
   "mimetype": "text/x-python",
   "name": "python",
   "nbconvert_exporter": "python",
   "pygments_lexer": "ipython3",
   "version": "3.8.5"
  }
 },
 "nbformat": 4,
 "nbformat_minor": 2
}
